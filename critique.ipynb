{
 "cells": [
  {
   "cell_type": "markdown",
   "metadata": {
    "collapsed": false
   },
   "source": [
    "Critique on Seong's code\n",
    "\n",
    "1. May add more details throughout the codes\n",
    "2. Need more details of module\n",
    "3. Maybe use a prime_check, instead starting with a list, from which you need to removce non-primer number\n",
    "4. Add the evaluation of the benchmark test\n",
    "\n"
   ]
  },
  {
   "cell_type": "markdown",
   "metadata": {
    "collapsed": false
   },
   "source": [
    "Critique on Kayan's code\n",
    "1. No need to add \"import primes\" in every cell \n",
    "2. Like detail description of the codes\n",
    "3. No need to include the codes in the Jupyter notebook (import is enough)\n",
    "4. Missing module docstring at the top\n",
    "5. Like the generator function that uses a prime_check function.\n",
    "6. No need gen_ints generator, because you have for _ in range()\n",
    "7. Add more test functions\n",
    "8. Change the last cell to Markdown. Texts appears as codes.\n",
    "9. Add the expectation of the code before benchmark test"
   ]
  }
 ],
 "metadata": {
  "kernelspec": {
   "display_name": "Python 3 (Anaconda)",
   "language": "python",
   "name": "anaconda3"
  },
  "language_info": {
   "codemirror_mode": {
    "name": "ipython",
    "version": 3
   },
   "file_extension": ".py",
   "mimetype": "text/x-python",
   "name": "python",
   "nbconvert_exporter": "python",
   "pygments_lexer": "ipython3",
   "version": "3.5.4"
  }
 },
 "nbformat": 4,
 "nbformat_minor": 0
}